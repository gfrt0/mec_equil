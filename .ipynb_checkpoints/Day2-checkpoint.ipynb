{
 "cells": [
  {
   "cell_type": "markdown",
   "metadata": {},
   "source": [
    "# <center>Day 2: matching models with fully transferable utility</center>\n",
    "### <center>Alfred Galichon (NYU)</center>\n",
    "## <center>'math+econ+code' masterclass on equilibrium transport and matching models in economics</center>\n",
    "<center>© 2020 by Alfred Galichon.  Support from  NSF DMS-1716489 and ERC CoG-866274 EQUIPRICE grants is acknowledged.</center>\n",
    "\n",
    "#### <center>with Python code</center>\n",
    "\n",
    "**If you reuse code from this masterclass, please cite as:**<br>\n",
    "Alfred Galichon, 'math+econ+code' masterclass on equilibrium transport and matching models in economics, June 2020. https://github.com/math-econ-code/mec_equil"
   ]
  },
  {
   "cell_type": "markdown",
   "metadata": {},
   "source": [
    "\n",
    "# References\n",
    "\n",
    "## Textbooks\n",
    "* Pierre-André Chiappori (2017). *Matching with Transfers: The Economics of Love and Marriage*. Princeton.\n",
    "* Alfred Galichon (2016). *Optimal transport methods in economics*. Princeton.\n",
    "\n",
    "## Papers\n",
    "\n",
    "* Eugene Choo and Aloysius Siow (2006). \"Who marries whom and why.\" *Journal of Political Economy* 114, no. 1, pp. 175-201.\n",
    "* Alfred Galichon and Bernard Salanié (2015). \"Cupid's invisible hands: Social Surplus and Identification in Matching Models\". Preprint.\n",
    "* Arnaud Dupuy, Alfred Galichon, Sonia Jaffe, and Scott Kominers (2020). \"Taxation in matching markets\". *International Economic Review*, forthcoming. \n",
    "\n",
    "# Matching with no taxes\n",
    "\n",
    "## Generating worker and firm data\n",
    "\n",
    "We will consider an academic job market, where candidate professors match with colleges--or rather, academic positions, as each position can only be filled by one applicant. \n",
    "\n",
    "A professor $x$ has characteristics $\\xi(x) \\in \\mathbb{R}^d$ where $\\xi$ includes measures of skills, such as general skills<br>\n",
    "$\\xi_0$=teaching ability,<br>\n",
    "$\\xi_1$=research ability, and<br>\n",
    "$\\xi_2$=collegiality<br>\n",
    "as well as specific skills, like<br>\n",
    "$\\xi_3$=proficiency in micro<br>\n",
    "$\\xi_4$=proficiency in macro<br>\n",
    "$\\xi_5$=proficiency in econometrics<br>\n",
    "and in addition, let's assume $\\xi$ also encodes geographic coordinates of the applicant's residential address<br>\n",
    "$\\xi_6$=residential address horizontal geographic coordinate<br>\n",
    "$\\xi_7$=residential address vertical geographic coordinate<br>\n",
    "\n",
    "\n",
    "and each college offer one position $y$ with characteristics $\\zeta(y) \\in \\mathbb{R}^d$, where $\\zeta_k$=how much one unit of characteristics $k$ is valued (in dollar terms) for this position, for $k\\in\\{0,...,5\\}$ and $\\zeta_6,\\zeta_7$ = college location's geographic coordinates.\n",
    "\n",
    "We assume that the amenity that worker $x$ associates with working for position $y$ is equal to minus the Euclidian distance between her location and the position's location, that is\n",
    "$$\\alpha_{xy} = - \\sqrt{(\\xi_{x6} - \\zeta_{y6})^2+(\\xi_{x7} - \\zeta_{y7})^2}.$$\n",
    "\n",
    "We assume that the output $\\gamma_{xy}$ that worker $x$ produces if she takes position $y$ is a CES function where specific/general skills are more or less substituable \n",
    "$$\\gamma_{xy}=\\left( \\left(\\sum_{k\\in\\{0,...,2\\} }(\\xi_{xk} \\zeta_{yk})^{r_g} \\right)^{r/{r_g}}+\n",
    "\\left(\\sum_{k\\in\\{3,...,5\\} }(\\xi_{xk} \\zeta_{yk})^{r_s} \\right)^{r/{r_s}} \\right)^{1/r}.$$\n",
    "\n",
    "\n",
    "## Generating demand and supply\n",
    "\n",
    "We shall take 50 applicants, 30 positions, $r_g = .8$, $r_s = .6$ and $r = .7$."
   ]
  },
  {
   "cell_type": "code",
   "execution_count": 1,
   "metadata": {},
   "outputs": [],
   "source": [
    "import numpy as np\n",
    "from scipy.spatial.distance import cdist\n",
    "\n",
    "np.random.seed(777)\n",
    "d = 8\n",
    "nbx = 50 #1200\n",
    "nby = 30 #1000\n",
    "\n",
    "rg = .8\n",
    "rs = .6\n",
    "r  = .7\n",
    "\n",
    "n_x = np.ones(nbx)\n",
    "m_y = np.ones(nby)\n",
    "ξ_x_k = np.random.rand(nbx,d)\n",
    "ζ_y_k = np.random.rand(nby,d)\n",
    "\n",
    "α_x_y = np.zeros((nbx,nby))\n",
    "γ_x_y = np.zeros((nbx,nby))\n",
    "for x in range(nbx):\n",
    "    for y in range(nby):\n",
    "        α_x_y[x,y] = - np.linalg.norm(ξ_x_k[x,6:7]-ζ_y_k[y,6:7]) / 50\n",
    "        γ_x_y[x,y] = (np.sum( (ξ_x_k[x,0:3]*ζ_y_k[y,0:3])**rg )**(r/rg)+(  np.sum(  ξ_x_k[x,3:6]*ζ_y_k[y,3:6] )**rs )**(r/rs))**r\n",
    "        \n",
    "Φ_x_y = α_x_y + γ_x_y"
   ]
  },
  {
   "cell_type": "markdown",
   "metadata": {},
   "source": [
    "## Wage determination\n",
    "\n",
    "Let $w_{xy}$ be the wage that college $y$ would be willing to pay to employee $x$, to be determined. Start by assuming that there are no taxes, so if $x$ and $y$ match, then their payoff are respectively:\n",
    "$$U_{xy} = \\alpha_{xy} + w_{xy}\\\\\n",
    "V_{xy}= \\gamma_{xy} - w_{xy} $$\n",
    "while we assume that these payoffs are zero if $x$ and $y$ do not match."
   ]
  },
  {
   "cell_type": "markdown",
   "metadata": {},
   "source": [
    "## The equilibirum assignment problem\n",
    "\n",
    "See class notes.\n",
    "\n",
    "## The Choo-Siow model\n",
    "\n",
    "\n",
    "See class notes: when adding logit heterogeneity, we obtaine equilibrium relations:<br>\n",
    "$\\mu_{xy} = \\exp(\\frac {\\Phi_{xy} - a_x - b_y} {2T} )$<br>\n",
    "$\\mu_{x0} = \\exp(\\frac {- a_x} {T})$<br>\n",
    "$\\mu_{0y} = \\exp(\\frac {- b_y} {T})$\n",
    "\n",
    "Matching equilibrium equations become<br>\n",
    "$\\left\\{\n",
    "\\begin{array}\n",
    "[c]{l}%\n",
    "n_x = \\exp(\\frac {- a_x} {T}) + \\sum_{y\\in \\mathcal{Y}}\\exp(\\frac {\\Phi_{xy} - a_x - b_y} {2T} )\\\\\n",
    "m_y = \\exp(\\frac {- b_y} {T}) + \\sum_{x\\in \\mathcal{X}}\\exp(\\frac {\\Phi_{xy} - a_x - b_y} {2T} )\n",
    "\\end{array}\n",
    "\\right.$\n",
    "\n",
    "\n"
   ]
  },
  {
   "cell_type": "markdown",
   "metadata": {},
   "source": [
    "## The class `ChooSiow_model`\n",
    "\n",
    "We encode the problem into:"
   ]
  },
  {
   "cell_type": "code",
   "execution_count": 2,
   "metadata": {},
   "outputs": [],
   "source": [
    "class ChooSiow_model:\n",
    "    def __init__(self,Φ_x_y,n_x=[],m_y=[],T=1):\n",
    "        if n_x == []:\n",
    "            n_x = np.ones(Φ_x_y.shape[0])\n",
    "        if m_y == []:\n",
    "            m_y = np.ones(Φ_x_y.shape[1])    \n",
    "        self.n_x = n_x\n",
    "        self.m_y = m_y\n",
    "        self.nbx = n_x.size\n",
    "        self.nby = m_y.size\n",
    "        self.Φ_x_y = Φ_x_y\n",
    "        self.T = T\n",
    "        self.K_x_y = np.exp(Φ_x_y / (2*T) )\n",
    "        self.eq_a_x = np.array([])\n",
    "        self.eq_b_y = np.array([])        \n",
    "        self.eq_μ_x0 = np.array([])\n",
    "        self.eq_μ_0y = np.array([])\n",
    "        self.eq_μ_x_y = np.array([])\n",
    "        self.eq_deltamarg_x = np.array([])\n",
    "        self.eq_deltamarg_y = np.array([])\n",
    "        self.eq_deltainvmarg_x = np.array([])\n",
    "        self.eq_deltainvmarg_y = np.array([])\n",
    "        self.comp_code = -1\n",
    "        self.comp_nbsteps = -1\n",
    "        self.comp_time = -1.0\n",
    "    \n",
    "    def updateΦ(self,Φ_x_y):\n",
    "        self.Φ_x_y = Φ_x_y\n",
    "        self.K_x_y = np.exp(Φ_x_y / (2*self.T) )\n",
    "        return(0)\n",
    "        \n",
    "    def M_x_y(self,μ_x0,μ_0y):\n",
    "        μ_x_y = np.zeros((self.nbx,self.nby))\n",
    "        for x in range(self.nbx):\n",
    "            for y in range(self.nby):\n",
    "                μ_x_y[x,y] = self.K_x_y[x,y] * np.sqrt(μ_x0[x] * μ_0y[y])\n",
    "        return(μ_x_y)\n",
    "####################\n",
    "mkt = ChooSiow_model(Φ_x_y)"
   ]
  },
  {
   "cell_type": "markdown",
   "metadata": {},
   "source": [
    "## The Choo-Siow model as an optimization problem\n",
    "\n",
    "Note that the previous equations are the first order conditions of the following optimization problem:<br>\n",
    "$$\\min_{a,b} f_{xy} := \\left\\{ \\sum_x a_x n_x + \\sum_y b_y m_y + 2T \\sum_{xy} e^{ \\frac {\\Phi_{xy} - a_x - b_y} {2T} }+ \\sum_x e^{\\frac {-a_x} {T}} + \\sum_y e^{\\frac {-b_y} {T}} \\right\\}$$\n",
    "that is, setting $A_x =\\exp(-a_x / (2T)) $ and $B_y =\\exp(-b_x / (2T)) $,<br>\n",
    "$$\\min_{A,B} F(A,B):= \\left\\{ - \\sum_x n_x \\log A_x  - \\sum_y m_y \\log B_y + 2 \\sum_{xy} K_{xy} A_x B_y + \\sum_x A^2_x + \\sum_y B^2_y \\right\\}$$\n",
    "where<br>\n",
    "$K_{xy} = T \\exp( \\Phi_{xy} / (2T) ).$<br>\n",
    "One has:<br>\n",
    "$\\frac{ \\partial F} {\\partial A_x}  = 2 A_x - \\frac {n_x} {A_x} + \\sum_y K_{xy} B_y$<br>\n",
    "$\\frac{ \\partial F} {\\partial B_y}  = 2 B_y - \\frac {m_y} {B_y} + \\sum_x K_{xy} A_x,$\n"
   ]
  },
  {
   "cell_type": "code",
   "execution_count": 3,
   "metadata": {},
   "outputs": [
    {
     "data": {
      "text/plain": [
       "array([0.40647575, 0.43061079, 0.41887237, 0.36880888, 0.3811228 ,\n",
       "       0.3823579 , 0.39589894, 0.40261791, 0.36740637, 0.39291593,\n",
       "       0.44384522, 0.37811349, 0.35546923, 0.35927188, 0.41599601,\n",
       "       0.36390432, 0.41906972, 0.38367414, 0.36658964, 0.40038773,\n",
       "       0.39516327, 0.46608092, 0.4078038 , 0.40847568, 0.38040058,\n",
       "       0.38974328, 0.43453843, 0.35263786, 0.47089858, 0.39093242,\n",
       "       0.41680538, 0.38291219, 0.46399887, 0.46936521, 0.43897156,\n",
       "       0.41717342, 0.40314248, 0.40759675, 0.36942187, 0.39426959,\n",
       "       0.39673887, 0.39242597, 0.36050087, 0.40320164, 0.38734409,\n",
       "       0.34657143, 0.41799766, 0.35522518, 0.44383292, 0.41009229])"
      ]
     },
     "execution_count": 3,
     "metadata": {},
     "output_type": "execute_result"
    }
   ],
   "source": [
    "from scipy.optimize import minimize\n",
    "from time import time\n",
    "\n",
    "def f(self,ab_z):\n",
    "    a_x = ab_z[0:self.nbx]\n",
    "    b_y = ab_z[self.nbx:(self.nbx+self.nby)]\n",
    "    μ_x0 = np.exp( - a_x /  self.T )\n",
    "    μ_0y = np.exp( - b_y / self.T )\n",
    "    μ_x_y = self.M_x_y(μ_x0 , μ_0y)  \n",
    "    return( np.sum(n_x * a_x ) + np.sum(m_y * b_y ) + 2* np.sum( μ_x_y) + np.sum(μ_x0 ) + np.sum(μ_0y ) )\n",
    "\n",
    "ChooSiow_model.f = f\n",
    "\n",
    "def gradf_xy(self,ab_z):\n",
    "    a_x = ab_z[0:self.nbx]\n",
    "    b_y = ab_z[self.nbx:(self.nbx+self.nby)]\n",
    "    μ_x0 = np.exp( - a_x /  self.T )\n",
    "    μ_0y = np.exp( - b_y / self.T )\n",
    "    μ_x_y = self.M_x_y(μ_x0 , μ_0y)  \n",
    "    dGda_x = n_x - μ_x0 - np.sum( μ_x_y , 1)\n",
    "    dGdb_y = m_y - μ_0y - np.sum( μ_x_y , 0)\n",
    "    return(np.append(dGda_x,dGdb_y))\n",
    "\n",
    "ChooSiow_model.gradf_xy = gradf_xy\n",
    "\n",
    "def solveOptim(self):\n",
    "    start_time = time()\n",
    "    uv0_z = np.zeros(nbx+nby)\n",
    "    res = minimize(self.f, uv0_z,  method='BFGS', jac = self.gradf_xy)\n",
    "    if res.success == False:\n",
    "        print('Failed to converge')\n",
    "    else:\n",
    "        comp_time = time() - start_time\n",
    "        a_x = res.x[0:self.nbx]\n",
    "        b_y = res.x[self.nbx:(self.nbx+self.nby)]\n",
    "        μ_x0 = np.exp( - a_x /  self.T )\n",
    "        μ_0y = np.exp( - b_y / self.T )\n",
    "        μ_x_y = self.M_x_y(μ_x0,μ_0y) \n",
    "        self.eq_a_x = a_x\n",
    "        self.eq_b_y = b_y\n",
    "        self.eq_μ_x0 = np.exp(- a_x / self.T)\n",
    "        self.eq_μ_0y = np.exp(- b_y / self.T)\n",
    "        self.eq_μ_x_y = μ_x_y       \n",
    "        self.eq_deltamarg_x = n_x - μ_x0 - np.sum( μ_x_y , 1)\n",
    "        self.eq_deltamarg_y = m_y - μ_0y - np.sum( μ_x_y , 0)\n",
    "        self.comp_time = comp_time\n",
    "    return(res.status)\n",
    "\n",
    "ChooSiow_model.solveOptim = solveOptim\n",
    "####################\n",
    "mkt.solveOptim()\n",
    "mkt.eq_μ_x0"
   ]
  },
  {
   "cell_type": "code",
   "execution_count": 4,
   "metadata": {},
   "outputs": [
    {
     "name": "stdout",
     "output_type": "stream",
     "text": [
      "-0.20028504940111574 41.84663630287934\n"
     ]
    }
   ],
   "source": [
    "A = np.sum(mkt.eq_μ_x_y * α_x_y)\n",
    "B = np.sum(mkt.eq_μ_x_y * γ_x_y)\n",
    "print(A,B)"
   ]
  },
  {
   "cell_type": "markdown",
   "metadata": {},
   "source": [
    "## The Choo-Siow model as an equilibrium problem with GS\n",
    "\n",
    "Can we reformulate as a competitive equilibrium problem with Gross Substitutes?\n",
    "\n",
    "Define $p\\in \\mathbb{R}^{\\mathcal{X}\\cup\\mathcal{Y}}$ by<br>\n",
    "$p_x = a_x, x\\in\\mathcal{X}$<br>\n",
    "$p_y = -b_y, y\\in\\mathcal{Y}$<br>\n",
    "and define $q \\in \\mathbb{R}^{\\mathcal{X}\\cup\\mathcal{Y}}$ by<br>\n",
    "$q_x = -n_x, x\\in\\mathcal{X}$<br>\n",
    "$q_y = b_y, y\\in\\mathcal{Y}.$<br>\n",
    "\n",
    "Define<br>\n",
    "$\\left\\{\n",
    "\\begin{array}\n",
    "[c]{l}%\n",
    "e_x(p) = - \\exp(\\frac {- p_x} {T}) - \\sum_{y\\in \\mathcal{Y}}\\exp(\\frac {\\Phi_{xy} - p_x + p_y} {2T} )\\\\\n",
    "e_y(p) = \\exp(\\frac {p_y} {T}) + \\sum_{x\\in \\mathcal{X}}\\exp(\\frac {\\Phi_{xy} - p_x +p_y} {2T} )\n",
    "\\end{array}\n",
    "\\right. $\n",
    "\n",
    "so that the equilibrium problem reformulates as $$e(p)=q.$$"
   ]
  },
  {
   "cell_type": "code",
   "execution_count": 5,
   "metadata": {},
   "outputs": [
    {
     "data": {
      "text/plain": [
       "array([0.40647575, 0.43061081, 0.41887239, 0.3688089 , 0.3811228 ,\n",
       "       0.3823579 , 0.39589893, 0.40261791, 0.36740638, 0.39291593,\n",
       "       0.44384526, 0.37811348, 0.35546921, 0.35927193, 0.41599603,\n",
       "       0.36390436, 0.41906973, 0.38367414, 0.36658965, 0.40038773,\n",
       "       0.39516327, 0.46608099, 0.40780381, 0.40847568, 0.38040059,\n",
       "       0.38974328, 0.43453845, 0.35263775, 0.47089866, 0.39093242,\n",
       "       0.41680539, 0.3829122 , 0.46399894, 0.46936529, 0.4389716 ,\n",
       "       0.41717343, 0.40314248, 0.40759676, 0.36942188, 0.39426959,\n",
       "       0.39673886, 0.39242597, 0.36050092, 0.40320164, 0.38734409,\n",
       "       0.34657134, 0.41799767, 0.35522523, 0.44383296, 0.4100923 ])"
      ]
     },
     "execution_count": 5,
     "metadata": {},
     "output_type": "execute_result"
    }
   ],
   "source": [
    "def solveIPFP(self, maxit = 1000,maxvaltol=1e-5,maxsteptol=1e-9,output=0):\n",
    "    start_time = time()\n",
    "    code = 0\n",
    "    deltainvmarg_x = np.zeros(self.nbx)\n",
    "    deltainvmarg_y = np.zeros(self.nby)\n",
    "    A_x = np.ones(nbx)\n",
    "    B_y = np.ones(nby)\n",
    "    for i in range(maxit):\n",
    "        \n",
    "        KThalfA_y = (self.K_x_y.transpose() @ A_x).flatten() / 2\n",
    "        newB_y = np.sqrt(m_y + KThalfA_y * KThalfA_y ) - KThalfA_y\n",
    "        deltainvmarg_y = newB_y - B_y\n",
    "        B_y = newB_y\n",
    "        \n",
    "        KBhalf_x = (self.K_x_y @ B_y).flatten() / 2\n",
    "        newA_x = np.sqrt(n_x + KBhalf_x * KBhalf_x ) - KBhalf_x\n",
    "        deltainvmarg_x = newA_x - A_x\n",
    "        A_x = newA_x\n",
    "        \n",
    "        deltamarg_y = KThalfA_y * B_y  + B_y * B_y  - m_y\n",
    "        #print(deltainvmarg_x)\n",
    "        #print(deltainvmarg_y)\n",
    "        #print(np.append(deltainvmarg_x,deltainvmarg_y))\n",
    "        steptol = np.max(np.abs( np.append(deltainvmarg_x,deltainvmarg_y) ) ) \n",
    "        valtol = np.max(np.abs(deltamarg_y) )\n",
    "        \n",
    "        if output > 1 :\n",
    "            print(\"μ_x0=\",μ_x0)\n",
    "        if valtol < maxvaltol :\n",
    "            code = 0\n",
    "            break\n",
    "        if steptol < maxsteptol :\n",
    "            code = 1\n",
    "            break\n",
    "        code = 2    \n",
    "    comp_time = time() - start_time\n",
    "    if output > 0 :\n",
    "        print( 'IPFP converged in', i, 'iterations and ',comp_time,' seconds.')\n",
    "        #print('Value of μ_x0=\",μ_x0)\n",
    "        print('Max absolute margin discrepancy=', valtol)            \n",
    "        print('Max absolute update discrepancy =',steptol)\n",
    "        print('Code =',code)\n",
    "\n",
    "    μ_x0 = A_x * A_x\n",
    "    μ_0y = B_y * B_y\n",
    "    μ_x_y = self.M_x_y(μ_x0,μ_0y)\n",
    "    self.eq_μ_x0 = μ_x0\n",
    "    self.eq_μ_0y = μ_0y\n",
    "    self.eq_μ_x_y = μ_x_y\n",
    "    self.eq_a_x = - self.T * np.log(μ_x0)\n",
    "    self.eq_b_y = - self.T * np.log(μ_0y)\n",
    "    self.eq_deltamarg_x = n_x - μ_x0 - np.sum( μ_x_y , 1)\n",
    "    self.eq_deltamarg_y = m_y - μ_0y - np.sum( μ_x_y , 0)\n",
    "    self.eq_deltainvmarg_x = deltainvmarg_x\n",
    "    self.eq_deltainvmarg_y = deltainvmarg_y\n",
    "    self.comp_code = code\n",
    "    self.comp_nbsteps = i\n",
    "    self.comp_time = comp_time\n",
    "    return code\n",
    "\n",
    "    \n",
    "ChooSiow_model.solveIPFP = solveIPFP\n",
    "####################\n",
    "mkt.solveIPFP()\n",
    "mkt.eq_μ_x0\n"
   ]
  },
  {
   "cell_type": "markdown",
   "metadata": {},
   "source": [
    "# Matching with linear taxes\n",
    "\n",
    "We now assume that the gross wage $w_{xy}$ is taxed at a linear rate $\\tau$, that is<br>\n",
    "$U_{xy} = \\alpha_{xy} + (1-\\tau) w_{xy}\\\\\n",
    "V_{xy} = \\gamma_{xy} - w_{xy},$<br>\n",
    "so the matching problem is equivalent to a TU matching problem with surplus functions<br>\n",
    "$\\Phi^\\tau_{xy} =  \\alpha_{xy}   +  (1-\\tau )  \\gamma_{xy}.$\n",
    "\n"
   ]
  },
  {
   "cell_type": "code",
   "execution_count": 7,
   "metadata": {},
   "outputs": [
    {
     "data": {
      "image/png": "[encoded data removed]",
      "text/plain": [
       "<Figure size 432x288 with 1 Axes>"
      ]
     },
     "metadata": {
      "needs_background": "light"
     },
     "output_type": "display_data"
    },
    {
     "data": {
      "image/png": "[encoded data removed]",
      "text/plain": [
       "<Figure size 432x288 with 1 Axes>"
      ]
     },
     "metadata": {
      "needs_background": "light"
     },
     "output_type": "display_data"
    },
    {
     "data": {
      "image/png": "[encoded data removed]",
      "text/plain": [
       "<Figure size 432x288 with 1 Axes>"
      ]
     },
     "metadata": {
      "needs_background": "light"
     },
     "output_type": "display_data"
    }
   ],
   "source": [
    "τ_k = np.arange(0,.5,.05)\n",
    "Φ_k = np.zeros(τ_k.size)\n",
    "α_k = np.zeros(τ_k.size)\n",
    "γ_k = np.zeros(τ_k.size)\n",
    "for k in range(τ_k.size ):\n",
    "    Φτ_x_y = α_x_y + (1-τ_k[k])* γ_x_y\n",
    "    mkt.updateΦ(Φτ_x_y)\n",
    "    mkt.solveIPFP()\n",
    "    α_k[k] = np.sum(mkt.eq_μ_x_y * α_x_y)\n",
    "    γ_k[k] = np.sum(mkt.eq_μ_x_y * γ_x_y)\n",
    "    Φ_k[k] = np.sum(mkt.eq_μ_x_y * (α_x_y+γ_x_y))\n",
    "\n",
    "import matplotlib.pyplot as plt\n",
    "\n",
    "plt.plot(τ_k,α_k)\n",
    "plt.legend(['Total α'], loc='upper left')\n",
    "plt.ylabel('Output')\n",
    "plt.show()\n",
    "\n",
    "plt.plot(τ_k,γ_k)\n",
    "plt.legend(['Total γ'], loc='upper left')\n",
    "plt.ylabel('Output')\n",
    "plt.show()\n",
    "\n",
    "plt.plot(τ_k,Φ_k)\n",
    "plt.legend(['Total α+γ'], loc='upper left')\n",
    "plt.ylabel('Output')\n",
    "plt.show()\n"
   ]
  }
 ],
 "metadata": {
  "kernelspec": {
   "display_name": "Python 3",
   "language": "python",
   "name": "python3"
  },
  "language_info": {
   "codemirror_mode": {
    "name": "ipython",
    "version": 3
   },
   "file_extension": ".py",
   "mimetype": "text/x-python",
   "name": "python",
   "nbconvert_exporter": "python",
   "pygments_lexer": "ipython3",
   "version": "3.7.7"
  }
 },
 "nbformat": 4,
 "nbformat_minor": 4
}
