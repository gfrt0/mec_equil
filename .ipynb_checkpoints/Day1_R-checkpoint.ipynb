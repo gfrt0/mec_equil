{
 "cells": [
  {
   "cell_type": "markdown",
   "metadata": {},
   "source": [
    "# <center>Day 1: competitive equilibrium with gross substitutes</center>\n",
    "### <center>Alfred Galichon (NYU)</center>\n",
    "## <center>'math+econ+code' masterclass on equilibrium transport and matching models in economics</center>\n",
    "<center>© 2020 by Alfred Galichon. Support from  NSF DMS-1716489 and ERC CoG-866274 EQUIPRICE grants is acknowledged.</center>\n",
    "\n",
    "#### <center>with R code, from the original Python code </center>\n",
    "\n",
    "**If you reuse code from this masterclass, please cite as:**<br>\n",
    "Alfred Galichon, 'math+econ+code' masterclass on equilibrium transport and matching models in economics, June 2020. https://github.com/math-econ-code/mec_equil"
   ]
  },
  {
   "cell_type": "markdown",
   "metadata": {},
   "source": [
    "\n",
    "# Reference for day 1\n",
    "\n",
    "## Textbooks\n",
    "\n",
    "* Dimitri Bertsekas and John Tsitsiklis (1989). *Parallel and Distributed Computation: Numerical Methods*. Prentice-Hall.\n",
    "* James Ortega and Werner Rheinboldt (1970). *Iterative Solution of Nonlinear Equations in Several Variables*. SIAM.\n",
    "\n",
    "\n",
    "## Papers\n",
    "\n",
    "* Steve Berry, Amit Gandhi and Philip Haile (2013). \"Connected Substitutes and Invertibility of Demand.\" *Econometrica* 81 no. 5, pp. 2087-2111.\n",
    "* Arnaud Dupuy, Alfred Galichon and Marc Henry (2014). \"Entropy methods for identifying hedonic models.\" *Mathematics and Financial Economics* no. 8, pp. 405–416.\n",
    "\n",
    "# Getting started\n",
    "\n",
    "See slides `D1a_getting-started.pdf`.\n",
    "\n",
    "\n",
    "# Generating demand and supply data\n",
    "\n",
    "## The pickup spots\n",
    "\n",
    "For each $z \\in \\{0,...,n-1\\}$, we define $h_z$ and $v_z$ the coordinates (horizontal and vertical) of $z$. "
   ]
  },
  {
   "cell_type": "code",
   "execution_count": 1,
   "metadata": {},
   "outputs": [
    {
     "name": "stderr",
     "output_type": "stream",
     "text": [
      "Loading required package: pacman\n",
      "\n"
     ]
    }
   ],
   "source": [
    "if (!require(\"pacman\")) install.packages(\"pacman\")\n",
    "library('pacman')\n",
    "\n",
    "set.seed(777)\n",
    "nbz = 3\n",
    "z_df = as.data.frame(cbind(runif(nbz), runif(nbz)))\n",
    "names(z_df) = c(\"h\", \"v\")"
   ]
  },
  {
   "cell_type": "markdown",
   "metadata": {},
   "source": [
    "## Generating supply\n",
    "For each driver $i$, we shall generate the position (horizontal and vertical coordinates), the concavity of preferences $\\tau_i$, and $\\lambda_i$ the value of $i$'s time. "
   ]
  },
  {
   "cell_type": "code",
   "execution_count": 2,
   "metadata": {},
   "outputs": [],
   "source": [
    "set.seed(778)\n",
    "nbi = 200\n",
    "i_df = as.data.frame(cbind(runif(nbi), runif(nbi), runif(nbi), 10 * runif(nbi)))\n",
    "names(i_df) = c(\"h\", \"v\", \"tau\", \"lambda\")"
   ]
  },
  {
   "cell_type": "markdown",
   "metadata": {},
   "source": [
    "## Generating demand\n",
    "\n",
    "For each passenger $j$, we shall generate the position (horizontal and vertical coordinates), elasticity of price-time substitution $\\sigma_j$, and the valuation of $j$'s time $\\epsilon_j$.  "
   ]
  },
  {
   "cell_type": "code",
   "execution_count": 3,
   "metadata": {},
   "outputs": [],
   "source": [
    "set.seed(779)\n",
    "nbj = 500\n",
    "j_df = as.data.frame(cbind(runif(nbj), runif(nbj), 1/runif(nbj), 20 * runif(nbj), runif(nbj)))\n",
    "names(j_df) = c(\"h\", \"v\", \"sigma\", \"epsilon\", \"eta\")"
   ]
  },
  {
   "cell_type": "markdown",
   "metadata": {},
   "source": [
    "\n",
    "The average speed walking is $4$ km/h and driving is $25$ km/h. Let's compute the time $T_{iz}$ that it takes driver each driver $i$ to drive to pickup at each $z$. "
   ]
  },
  {
   "cell_type": "code",
   "execution_count": 4,
   "metadata": {},
   "outputs": [],
   "source": [
    "pacman::p_load('rdist')\n",
    "\n",
    "avge_speed_drive = 25\n",
    "avge_speed_walk = 4\n",
    "\n",
    "T_iz = rdist::cdist(i_df[, c('h', 'v')], z_df[, c('h', 'v')]) / avge_speed_drive\n",
    "T_jz = rdist::cdist(j_df[, c('h', 'v')], z_df[, c('h', 'v')]) / avge_speed_walk\n"
   ]
  },
  {
   "cell_type": "markdown",
   "metadata": {},
   "source": [
    "Now let's compute the supply. The utility that each driver $i$ have for each option $z$ is $$u_{iz}\\left( p_z,\\varepsilon \\right)\n",
    "=p_{z}^{1-\\tau _{i}}-\\lambda _{i}T_{iz},$$ and the option that driver $i$ has for the exit option is $0$. We have $$s_z(p_z) = \\sum_i 1{\\{ z = argmax_{z^\\prime} (u_{iz^\\prime}(p_z))  \\}}.$$"
   ]
  },
  {
   "cell_type": "code",
   "execution_count": 5,
   "metadata": {},
   "outputs": [],
   "source": [
    "s_z <- function(p_z) {\n",
    "  u_iz = t(matrix(p_z, nbz, nbi))  ^ (1 - i_df[, \"tau\"]) - i_df[, \"lambda\"] * T_iz\n",
    "  u_i0 = rep(0, nbi)\n",
    "  table(factor(apply(cbind(u_i0, u_iz), 1, which.max), levels = 2:(nbz+1), labels = 1:nbz))\n",
    "}"
   ]
  },
  {
   "cell_type": "markdown",
   "metadata": {},
   "source": [
    "We now compute the demand. The cost that each passenger $j$ has for each option $z$, which is given by $$c_{jz}\\left( p_{z}\\right) =\\left( p_{z}^{1-\\frac{1}{%\n",
    "\\sigma _{j}}}+\\left( \\epsilon _{j}T_{jz}\\right) ^{1-\\frac{1}{\\sigma _{j}}%\n",
    "}\\right) ^{\\frac{\\sigma _{j}}{\\sigma _{j}-1}},$$\n",
    "and the cost associated with the exit option is $\\eta_j$. Similar to above, we have $$d_z(p_z) = \\sum_j 1{\\{ z = argmin_{z^\\prime} (v_{jz^\\prime}(p_z))  \\}}.$$"
   ]
  },
  {
   "cell_type": "code",
   "execution_count": 6,
   "metadata": {},
   "outputs": [],
   "source": [
    "d_z <- function(p_z) {\n",
    "  expos_j = 1 - 1/j_df[, 'sigma']\n",
    "  c_jz = (t(matrix(p_z, nbz, nbj)) ^ expos_j + (j_df[, \"epsilon\"] * T_jz) ^ expos_j) ^ (1 / expos_j)\n",
    "  c_j0 = j_df[, \"eta\"]\n",
    "  table(factor(apply(cbind(c_j0, c_jz), 1, which.min), levels = 2:(nbz+1), labels = 1:nbz))\n",
    "}\n",
    "\n",
    "# Excess supply\n",
    "\n",
    "e_z <- function(p_z) {\n",
    "  s_z(p_z) - d_z(p_z)\n",
    "}"
   ]
  },
  {
   "cell_type": "code",
   "execution_count": 7,
   "metadata": {},
   "outputs": [
    {
     "data": {
      "text/plain": [
       "\n",
       "  1   2   3 \n",
       "  3   2 178 "
      ]
     },
     "metadata": {},
     "output_type": "display_data"
    }
   ],
   "source": [
    "p_z = runif(nbz)\n",
    "e_z(p_z)"
   ]
  },
  {
   "cell_type": "markdown",
   "metadata": {},
   "source": [
    "## Smoothed supply and demand\n",
    "\n",
    "Actually, we would like to have a smooth approximation of supply and demand. Thus set $$s^{smooth}_z(p_z,T) = \\sum_i \\frac {e^{\\frac {u_{iz}} {T} }} {\\sum_{z^\\prime} e^{\\frac {c_{iz^\\prime}} {T} }},$$ and $$d^{smooth}_z(p_z,T) = \\sum_j \\frac {e^{\\frac {-c_{jz}} {T} }} {\\sum_{z^\\prime} e^{\\frac {-c_{jz^\\prime}} {T} }}.$$ \n",
    "Note (math exercise!) that as $T \\to 0$, we tend to the previous functions $s$ and $d$."
   ]
  },
  {
   "cell_type": "code",
   "execution_count": 8,
   "metadata": {},
   "outputs": [],
   "source": [
    "ssmooth_z <- function(p_z, temperature = .01) {\n",
    "  u_iz = t(matrix(p_z, nbz, nbi))  ^ (1 - i_df[, \"tau\"]) - i_df[, \"lambda\"] * T_iz\n",
    "  u_i0 = rep(0, nbi)\n",
    "  s_z = colSums(exp(cbind(u_i0, u_iz) / temperature) / rowSums(exp(cbind(u_i0, u_iz) / temperature)))\n",
    "  names(s_z) = 0:nbz\n",
    "  s_z[2:(nbz+1)]\n",
    "}\n",
    "\n",
    "dsmooth_z <- function(p_z, temperature = .01) {\n",
    "  expos_j = 1 - 1/j_df[, 'sigma']\n",
    "  c_jz = (t(matrix(p_z, nbz, nbj)) ^ expos_j + (j_df[, \"epsilon\"] * T_jz) ^ expos_j) ^ (1 / expos_j)\n",
    "  c_j0 = j_df[, \"eta\"]\n",
    "  d_z = colSums(exp(- cbind(c_j0, c_jz) / temperature) / rowSums(- exp(cbind(c_j0, c_jz) / temperature)))\n",
    "  names(d_z) = 0:nbz\n",
    "  d_z[2:(nbz+1)]\n",
    "}\n",
    "\n",
    "esmooth_z <- function(p_z, temp = .01) {\n",
    "  ssmooth_z(p_z, temp) - dsmooth_z(p_z, temp)\n",
    "}"
   ]
  },
  {
   "cell_type": "markdown",
   "metadata": {},
   "source": [
    "Note that though correct, the smooth max approximation is numerically unstable. To improve performance, we use the log-sum-exp trick discussed by Alfred on Day 1.\n",
    "\n",
    "This leads to the following functions (overwriting the previous ones given the superiority):"
   ]
  },
  {
   "cell_type": "code",
   "execution_count": 9,
   "metadata": {},
   "outputs": [],
   "source": [
    "ssmooth_z <- function(p_z, temperature = .01) {\n",
    "  u_iz = t(matrix(p_z, nbz, nbi))  ^ (1 - i_df[, \"tau\"]) - i_df[, \"lambda\"] * T_iz\n",
    "  u_i0 = rep(0, nbi)\n",
    "  s_z = colSums(exp((cbind(u_i0, u_iz) - apply(cbind(u_i0, u_iz), 1, max)) / temperature - \n",
    "        log(rowSums(exp((cbind(u_i0, u_iz) - apply(cbind(u_i0, u_iz), 1, max)) / temperature)))))\n",
    "  names(s_z) = 0:nbz\n",
    "  s_z[2:(nbz+1)]\n",
    "}\n",
    "\n",
    "dsmooth_z <- function(p_z, temperature = .01) {\n",
    "  expos_j = 1 - 1/j_df[, 'sigma']\n",
    "  c_jz = (t(matrix(p_z, nbz, nbj)) ^ expos_j + (j_df[, \"epsilon\"] * T_jz) ^ expos_j) ^ (1 / expos_j)\n",
    "  c_j0 = j_df[, \"eta\"]\n",
    "  d_z = colSums(exp((- cbind(c_j0, c_jz) + apply(cbind(c_j0, c_jz), 1, min)) / temperature - \n",
    "        log(rowSums(exp((- cbind(c_j0, c_jz) + apply(cbind(c_j0, c_jz), 1, min)) / temperature)))))\n",
    "  names(d_z) = 0:nbz\n",
    "  d_z[2:(nbz+1)]\n",
    "}\n",
    "\n",
    "esmooth_z <- function(p_z, temp = .01) {\n",
    "  ssmooth_z(p_z, temp) - dsmooth_z(p_z, temp)\n",
    "}\n"
   ]
  },
  {
   "cell_type": "markdown",
   "metadata": {},
   "source": [
    "# Equilibrium computation\n",
    "\n",
    "**Note**: Alfred's notes make use of python classes. Though there are concepts similar to python's classes in R, an R user would probably not use them commonly; I am not familiar with R classes. I'll skip, but it would be good to learn if anyone has more experience.\n",
    "\n",
    "We now would like to construct a toolbox to solve the equilibrium problem $$e(p)=q.$$\n",
    "We will see two related basic methods, the Gauss-Seidel algorithm and the Jacobi algorithm. Both of them are based ont the notion of coordinate updating.\n",
    "\n",
    "## Building coordinate update functions\n",
    "\n",
    "To start with, we need to introduce a *coordinate update function,* denoted $cu^z(p),$ such that \n",
    "$$e_z(cu^z_z(p),p_{-z})=q_z\\\\\n",
    "cu^z_{-z}(p)=p_{-z}\n",
    "$$\n",
    "so that $cu^z_z$ finds the equilibrium price in the market for $z$, provided all the other are markets are at equilibrium. "
   ]
  },
  {
   "cell_type": "code",
   "execution_count": 10,
   "metadata": {},
   "outputs": [],
   "source": [
    "pacman::p_load('pracma')\n",
    "\n",
    "pmin = 0\n",
    "pmax = 1e08\n",
    "temperature = .001\n",
    "\n",
    "replaceentry <- function(vec, ind, x) {\n",
    "  assign(deparse(substitute(vec)), replace(vec, ind, x), envir = .GlobalEnv)\n",
    "}\n",
    "\n",
    "cu <- function(vec, ind) {\n",
    "  newprice <- pracma::brent(fun = function(x) esmooth_z(replaceentry(vec, ind, x), temperature)[ind], \n",
    "                            a = pmin, b = pmax)\n",
    "  vectoreturn <- replaceentry(vec, ind, newprice$root)\n",
    "  vectoreturn\n",
    "}"
   ]
  },
  {
   "cell_type": "markdown",
   "metadata": {},
   "source": [
    "Above, `self` is intended to be an object of `EquilibriumProblem` class. We can just add the method `cu` to that class."
   ]
  },
  {
   "cell_type": "code",
   "execution_count": 11,
   "metadata": {},
   "outputs": [
    {
     "data": {
      "text/html": [
       "<style>\n",
       ".list-inline {list-style: none; margin:0; padding: 0}\n",
       ".list-inline>li {display: inline-block}\n",
       ".list-inline>li:not(:last-child)::after {content: \"\\00b7\"; padding: 0 .5ex}\n",
       "</style>\n",
       "<ol class=list-inline><li>0</li><li>0</li><li>0</li></ol>\n"
      ],
      "text/latex": [
       "\\begin{enumerate*}\n",
       "\\item 0\n",
       "\\item 0\n",
       "\\item 0\n",
       "\\end{enumerate*}\n"
      ],
      "text/markdown": [
       "1. 0\n",
       "2. 0\n",
       "3. 0\n",
       "\n",
       "\n"
      ],
      "text/plain": [
       "[1] 0 0 0"
      ]
     },
     "metadata": {},
     "output_type": "display_data"
    },
    {
     "data": {
      "text/html": [
       "<style>\n",
       ".list-inline {list-style: none; margin:0; padding: 0}\n",
       ".list-inline>li {display: inline-block}\n",
       ".list-inline>li:not(:last-child)::after {content: \"\\00b7\"; padding: 0 .5ex}\n",
       "</style>\n",
       "<ol class=list-inline><li>4.30786851901381e-08</li><li>0</li><li>0</li></ol>\n"
      ],
      "text/latex": [
       "\\begin{enumerate*}\n",
       "\\item 4.30786851901381e-08\n",
       "\\item 0\n",
       "\\item 0\n",
       "\\end{enumerate*}\n"
      ],
      "text/markdown": [
       "1. 4.30786851901381e-08\n",
       "2. 0\n",
       "3. 0\n",
       "\n",
       "\n"
      ],
      "text/plain": [
       "[1] 4.307869e-08 0.000000e+00 0.000000e+00"
      ]
     },
     "metadata": {},
     "output_type": "display_data"
    },
    {
     "data": {
      "text/html": [
       "<style>\n",
       ".list-inline {list-style: none; margin:0; padding: 0}\n",
       ".list-inline>li {display: inline-block}\n",
       ".list-inline>li:not(:last-child)::after {content: \"\\00b7\"; padding: 0 .5ex}\n",
       "</style>\n",
       "<ol class=list-inline><li>4.30786851901381e-08</li><li>0.00029459690331506</li><li>0</li></ol>\n"
      ],
      "text/latex": [
       "\\begin{enumerate*}\n",
       "\\item 4.30786851901381e-08\n",
       "\\item 0.00029459690331506\n",
       "\\item 0\n",
       "\\end{enumerate*}\n"
      ],
      "text/markdown": [
       "1. 4.30786851901381e-08\n",
       "2. 0.00029459690331506\n",
       "3. 0\n",
       "\n",
       "\n"
      ],
      "text/plain": [
       "[1] 4.307869e-08 2.945969e-04 0.000000e+00"
      ]
     },
     "metadata": {},
     "output_type": "display_data"
    },
    {
     "data": {
      "text/html": [
       "<style>\n",
       ".list-inline {list-style: none; margin:0; padding: 0}\n",
       ".list-inline>li {display: inline-block}\n",
       ".list-inline>li:not(:last-child)::after {content: \"\\00b7\"; padding: 0 .5ex}\n",
       "</style>\n",
       "<ol class=list-inline><li>4.30786851901381e-08</li><li>0.00029459690331506</li><li>0.000500761062080027</li></ol>\n"
      ],
      "text/latex": [
       "\\begin{enumerate*}\n",
       "\\item 4.30786851901381e-08\n",
       "\\item 0.00029459690331506\n",
       "\\item 0.000500761062080027\n",
       "\\end{enumerate*}\n"
      ],
      "text/markdown": [
       "1. 4.30786851901381e-08\n",
       "2. 0.00029459690331506\n",
       "3. 0.000500761062080027\n",
       "\n",
       "\n"
      ],
      "text/plain": [
       "[1] 4.307869e-08 2.945969e-04 5.007611e-04"
      ]
     },
     "metadata": {},
     "output_type": "display_data"
    }
   ],
   "source": [
    "# Try it:\n",
    "p_z = rep(0, nbz)\n",
    "p_z\n",
    "p_z <- cu(p_z, 1)\n",
    "p_z\n",
    "p_z <- cu(p_z, 2)\n",
    "p_z\n",
    "p_z <- cu(p_z, 3)\n",
    "p_z"
   ]
  },
  {
   "cell_type": "markdown",
   "metadata": {},
   "source": [
    "## Gauss-Seidel vs Jacobi algorithms\n",
    "\n",
    "The Gauss-Seidel algorithm consists of setting $p^t$ such that \n",
    "\n",
    "$\n",
    "p^1: e_1(p^1_1,p^0_{-1})=q_1 , p^1_{-1} = p^0_{-1} \\\\\n",
    "p^2: e_2(p^2_2,p^1_{-2})=q_2, p^2_{-2} = p^1_{-2} \\\\\n",
    "... \\\\\n",
    "p^Z: e_Z (p^Z_Z,p^{Z-1}_{-Z})=q_Z, p^Z_{-Z} = p^{Z-1}_{-Z} \\\\ \n",
    "p^{Z+1}: e_{1} (p^{Z+1}_1,p^{Z}_{-1}) = q_1, p^{Z+1}_{-1} = p^{Z+1}_{-1} \\\\\n",
    "...\n",
    "$\n",
    "\n",
    "In other words, one full iteration of the Gauss-Seidel algorithm amounts to iterating the map\n",
    "\n",
    "$f^{GS}(p)=(cu^1(p),cu^2\\circ cu^1(p),...,cu^Z\\circ cu^{Z-1}\\circ ... \\circ cu^1(p)),$\n",
    "\n",
    "which we now implement."
   ]
  },
  {
   "cell_type": "code",
   "execution_count": 12,
   "metadata": {},
   "outputs": [],
   "source": [
    "GaussSeidel <- function(vec) {\n",
    "  pp_z = vec\n",
    "  for (zz in 1:nbz) {\n",
    "    pp_z = cu(pp_z, zz)\n",
    "  }\n",
    "  pp_z\n",
    "}"
   ]
  },
  {
   "cell_type": "markdown",
   "metadata": {},
   "source": [
    "The Jacobi algorithm consists of setting $p^t$ such that \n",
    "\n",
    "$\n",
    "e_1(p^1_1,p^0_{-1}) = q_1  \\\\\n",
    "e_2(p^1_2,p^0_{-2}) = q_2 \\\\\n",
    "... \\\\\n",
    "e_Z (p^1_Z,p^0_{-Z}) = q_Z \\\\ \n",
    "e_{1} (p^2_1,p^1_{-1}) = q_1\\\\\n",
    "...\n",
    "$\n",
    "\n",
    "In other words, one full iteration of the Gauss-Seidel algorithm amounts to \n",
    "\n",
    "$f^{J}(p)=(cu^1(p),cu^2(p),...,cu^Z(p)).$\n",
    "\n",
    "Let's implement $f^J$, allowing for parallelisation via the `doParallel` and `foreach` R packages:"
   ]
  },
  {
   "cell_type": "code",
   "execution_count": 13,
   "metadata": {},
   "outputs": [],
   "source": [
    "pacman::p_load(foreach)\n",
    "pacman::p_load(doParallel)\n",
    "\n",
    "cores = floor(detectCores() / 2)\n",
    "cl <- makeCluster(cores)\n",
    "registerDoParallel(cl) # cluster closed at the very end.\n",
    "\n",
    "Jacobi <- function(vec) {\n",
    "  pp_z = vec\n",
    "  pp_z <- foreach(z=1:nbz, .combine = c, .packages = \"pracma\", .export = ls(.GlobalEnv)) %dopar% {\n",
    "    a = cu(pp_z, z)\n",
    "    a[z]\n",
    "  }\n",
    "  pp_z\n",
    "}"
   ]
  },
  {
   "cell_type": "markdown",
   "metadata": {},
   "source": [
    "The first five steps of the Gauss-Seidel algorithm will therefore be:"
   ]
  },
  {
   "cell_type": "code",
   "execution_count": 14,
   "metadata": {},
   "outputs": [
    {
     "name": "stdout",
     "output_type": "stream",
     "text": [
      "[1] 0.7089170 0.5127196 0.3690154\n",
      "[1] 0.4317941 0.3318958 0.2471233\n",
      "[1] 0.2867649 0.2294747 0.1624153\n",
      "[1] 0.2045163 0.1597399 0.1111867\n",
      "[1] 0.13960843 0.10987917 0.07691817\n"
     ]
    },
    {
     "data": {
      "text/html": [
       "<style>\n",
       ".dl-inline {width: auto; margin:0; padding: 0}\n",
       ".dl-inline>dt, .dl-inline>dd {float: none; width: auto; display: inline-block}\n",
       ".dl-inline>dt::after {content: \":\\0020\"; padding-right: .5ex}\n",
       ".dl-inline>dt:not(:first-of-type) {padding-left: .5ex}\n",
       "</style><dl class=dl-inline><dt>1</dt><dd>88.0125492850868</dd><dt>2</dt><dd>23.9963800371094</dd><dt>3</dt><dd>0</dd></dl>\n"
      ],
      "text/latex": [
       "\\begin{description*}\n",
       "\\item[1] 88.0125492850868\n",
       "\\item[2] 23.9963800371094\n",
       "\\item[3] 0\n",
       "\\end{description*}\n"
      ],
      "text/markdown": [
       "1\n",
       ":   88.01254928508682\n",
       ":   23.99638003710943\n",
       ":   0\n",
       "\n"
      ],
      "text/plain": [
       "       1        2        3 \n",
       "88.01255 23.99638  0.00000 "
      ]
     },
     "metadata": {},
     "output_type": "display_data"
    }
   ],
   "source": [
    "p_z <- runif(nbz)\n",
    "p_zGS <- p_zJ <- p_z\n",
    "\n",
    "for (j in 1:5) {\n",
    "  p_zGS <- GaussSeidel(p_zGS)\n",
    "  print(p_zGS)\n",
    "}\n",
    "esmooth_z(p_zGS, temperature)"
   ]
  },
  {
   "cell_type": "markdown",
   "metadata": {},
   "source": [
    "The first five steps of the Jacobi algorithm will therefore be:"
   ]
  },
  {
   "cell_type": "code",
   "execution_count": 15,
   "metadata": {},
   "outputs": [
    {
     "name": "stdout",
     "output_type": "stream",
     "text": [
      "[1] 0.7089170 0.5753479 0.4747926\n",
      "[1] 0.4767092 0.4418596 0.3738726\n",
      "[1] 0.3747220 0.3471731 0.3299032\n",
      "[1] 0.3072577 0.2942259 0.2563797\n",
      "[1] 0.2636417 0.2400736 0.2149100\n"
     ]
    },
    {
     "data": {
      "text/html": [
       "<style>\n",
       ".dl-inline {width: auto; margin:0; padding: 0}\n",
       ".dl-inline>dt, .dl-inline>dd {float: none; width: auto; display: inline-block}\n",
       ".dl-inline>dt::after {content: \":\\0020\"; padding-right: .5ex}\n",
       ".dl-inline>dt:not(:first-of-type) {padding-left: .5ex}\n",
       "</style><dl class=dl-inline><dt>1</dt><dd>67.2221530597589</dd><dt>2</dt><dd>57.3934000887204</dd><dt>3</dt><dd>24.3587627462396</dd></dl>\n"
      ],
      "text/latex": [
       "\\begin{description*}\n",
       "\\item[1] 67.2221530597589\n",
       "\\item[2] 57.3934000887204\n",
       "\\item[3] 24.3587627462396\n",
       "\\end{description*}\n"
      ],
      "text/markdown": [
       "1\n",
       ":   67.22215305975892\n",
       ":   57.39340008872043\n",
       ":   24.3587627462396\n",
       "\n"
      ],
      "text/plain": [
       "       1        2        3 \n",
       "67.22215 57.39340 24.35876 "
      ]
     },
     "metadata": {},
     "output_type": "display_data"
    }
   ],
   "source": [
    "for (j in 1:5) {\n",
    "  p_zJ <- Jacobi(p_zJ)\n",
    "  print(p_zJ)\n",
    "}\n",
    "esmooth_z(p_zJ, temperature)"
   ]
  },
  {
   "cell_type": "markdown",
   "metadata": {},
   "source": [
    "Compared with Gauss-Seidel above, Jacobi does not make use of all the relevant information (i.e. latest price update) at a given point in time. But its structure makes it more naturally suited for parallelization, whereas Gauss Seidel is constrained to be single-thread."
   ]
  },
  {
   "cell_type": "markdown",
   "metadata": {},
   "source": [
    "## Obtaining Equilibrium Prices with the Two Methods"
   ]
  },
  {
   "cell_type": "code",
   "execution_count": null,
   "metadata": {},
   "outputs": [],
   "source": [
    "pacman::p_load(\"microbenchmark\")\n",
    "\n",
    "p_z <- runif(nbz)\n",
    "p_zGS <- p_zJ <- p_z\n",
    "\n",
    "valtol = 1e-5\n",
    "steptol = 1e-12\n",
    "criterione = criterionp = 10\n",
    "iGS <- 1\n",
    "a <- microbenchmark::microbenchmark(\n",
    "while (criterione > valtol | criterionp > steptol) {\n",
    "  p_zGS_ <- GaussSeidel(p_zGS)\n",
    "  criterione <- max(abs(esmooth_z(p_zGS, temperature) - esmooth_z(p_zGS_, temperature)))\n",
    "  criterionp <- max(abs(p_zGS - p_zGS_))\n",
    "  p_zGS <- p_zGS_\n",
    "  iGS <- iGS + 1\n",
    "}, times = 1)\n",
    "\n",
    "cat(\"Gauss Seidel Iterations: \", iGS, \"\\n\")\n",
    "cat(\"Gauss Seidel Excess Supply: \", esmooth_z(p_zGS, temperature), \"\\n\")\n",
    "cat(\"Gauss Seidel Prices: \", p_zGS, \"\\n\")\n",
    "cat(\"Gauss Seidel Runtime: \", a$time / 1e9, \" seconds. \\n\")\n",
    "\n",
    "criterione = criterionp = 10\n",
    "iJ <- 1\n",
    "b <- microbenchmark::microbenchmark(\n",
    "  while (criterione > valtol | criterionp > steptol) {\n",
    "  p_zJ_ <- Jacobi(p_zJ)\n",
    "  criterione <- max(abs(esmooth_z(p_zJ, temperature) - esmooth_z(p_zJ_, temperature)))\n",
    "  criterionp = max(abs(p_zJ - p_zJ_))\n",
    "  p_zJ <- p_zJ_\n",
    "  iJ <- iJ + 1 \n",
    "}, times = 1)\n",
    "\n",
    "cat(\"Jacobi Iterations: \", iJ, \"\\n\")\n",
    "cat(\"Jacobi Excess Supply: \", esmooth_z(p_zJ, temperature), \"\\n\")\n",
    "cat(\"Jacobi Prices: \", p_zJ, \"\\n\")\n",
    "cat(\"Jacobi Runtime: \", b$time / 1e9, \" seconds. \\n\")\n",
    "cat(\"Jacobi Nodes Used: \", cores)\n",
    "\n",
    "stopCluster(cl)"
   ]
  },
  {
   "cell_type": "markdown",
   "metadata": {},
   "source": [
    "## Convergence of the Gauss-Seidel and Jacobi algorithms\n",
    "\n",
    "See slides `D1b_mathematical-results.pdf`."
   ]
  },
  {
   "cell_type": "markdown",
   "metadata": {},
   "source": [
    "## Benchmarking Corner\n",
    "\n",
    "### Brent's method and speed comparisons: a comparison of cmna::bisection, pracma::brent, pracma::bisect."
   ]
  },
  {
   "cell_type": "code",
   "execution_count": null,
   "metadata": {},
   "outputs": [],
   "source": [
    "pacman::p_load(\"cmna\")\n",
    "\n",
    "cu <- function(vec, ind) {\n",
    "  newprice <- cmna::bisection(f = function(x) esmooth_z(replaceentry(vec, ind, x), temperature)[ind], \n",
    "                              a = pmin, b = pmax, tol = 1e-6, m = 1e4)\n",
    "  vectoreturn <- replaceentry(vec, ind, newprice)\n",
    "  vectoreturn\n",
    "}\n",
    "\n",
    "cubrent <- function(vec, ind) {\n",
    "  newprice <- pracma::brent(fun = function(x) esmooth_z(replaceentry(vec, ind, x), temperature)[ind], \n",
    "                              a = pmin, b = pmax)\n",
    "  vectoreturn <- replaceentry(vec, ind, newprice$root)\n",
    "  vectoreturn\n",
    "}\n",
    "\n",
    "cubisect <- function(vec, ind) {\n",
    "  newprice <- pracma::bisect(fun = function(x) esmooth_z(replaceentry(vec, ind, x), temperature)[ind], \n",
    "                              a = pmin, b = pmax)\n",
    "  vectoreturn <- replaceentry(vec, ind, newprice$root)\n",
    "  vectoreturn\n",
    "}\n",
    "\n",
    "mb <- microbenchmark::microbenchmark(cu(p_z, 3), cubisect(p_z, 3), cubrent(p_z, 3), times = 100)\n",
    "\n",
    "summary(mb)\n",
    "\n",
    "# Results on my machine: \n",
    "#    method       min       lq      mean     median     uq      max     neval\n",
    "#  cu (cmna)   111.56017 118.93451 131.7361 122.7135 129.4310 388.7871   100\n",
    "#  cubisect    386.94171 404.23572 426.8851 409.9341 431.5274 606.1484   100\n",
    "#  cubrent     90.54658  95.73503  106.2200 100.7467 106.9277 269.5056   100\n",
    "# \n",
    "# hence the choice to go with pracma::brent.\n",
    "# cmna bisection is much faster than pracma's; unfortunately cmna does not provide the brent algorithm.\n"
   ]
  }
 ],
 "metadata": {
  "kernelspec": {
   "display_name": "R",
   "language": "R",
   "name": "ir"
  },
  "language_info": {
   "codemirror_mode": "r",
   "file_extension": ".r",
   "mimetype": "text/x-r-source",
   "name": "R",
   "pygments_lexer": "r",
   "version": "3.6.3"
  }
 },
 "nbformat": 4,
 "nbformat_minor": 4
}
